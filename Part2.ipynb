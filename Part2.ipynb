{
 "cells": [
  {
   "cell_type": "markdown",
   "metadata": {},
   "source": [
    "# Movies Tonight Part 2: SQL DDL"
   ]
  },
  {
   "cell_type": "code",
   "execution_count": 25,
   "metadata": {},
   "outputs": [
    {
     "name": "stdout",
     "output_type": "stream",
     "text": [
      "The sql extension is already loaded. To reload it, use:\n",
      "  %reload_ext sql\n"
     ]
    }
   ],
   "source": [
    "%load_ext sql"
   ]
  },
  {
   "cell_type": "markdown",
   "metadata": {},
   "source": [
    "1. **Create / Reset a SQLite database.** \n",
    "    - Name the database `Movies.db`.\n",
    "    - Add `DROP TABLE IF EXISTS` queries make sure you have a blank database. \n",
    "    - Use SQL comments to say what each line does"
   ]
  },
  {
   "cell_type": "markdown",
   "metadata": {},
   "source": [
    "2. **Use SQL Create Table commands to implement the table designs you created in Part 1.** \n",
    "    - Take care with your data types! (You do not need to populate them yet. That’s Part 3.) \n",
    "    - Use a surrogate key for the primary key of each table. The data type descriptor is `INTEGER PRIMARY KEY`.\n",
    "    - If you make a mistake, recreate the database from scratch using your code from step 1 above. "
   ]
  },
  {
   "cell_type": "code",
   "execution_count": 26,
   "metadata": {},
   "outputs": [
    {
     "name": "stdout",
     "output_type": "stream",
     "text": [
      " * sqlite:///Movies.db\n",
      "Done.\n",
      "Done.\n",
      "Done.\n",
      "Done.\n",
      "Done.\n",
      "Done.\n",
      "Done.\n",
      "Done.\n",
      "Done.\n",
      "Done.\n"
     ]
    },
    {
     "data": {
      "text/plain": [
       "[]"
      ]
     },
     "execution_count": 26,
     "metadata": {},
     "output_type": "execute_result"
    }
   ],
   "source": [
    "%%sql\n",
    "DROP TABLE IF EXISTS THEATERS;\n",
    "CREATE TABLE THEATERS (\n",
    "    TID INTEGER PRIMARY KEY,\n",
    "    NAME TEXT NOT NULL,\n",
    "    LOCATION TEXT NOT NULL,\n",
    "    PHONE TEXT NOT NULL\n",
    ");\n",
    "DROP TABLE IF EXISTS MOVIES;\n",
    "CREATE TABLE MOVIES (\n",
    "    MID INTEGER PRIMARY KEY,\n",
    "    TITLE TEXT NOT NULL,\n",
    "    RATING TEXT\n",
    ");\n",
    "DROP TABLE IF EXISTS ARTISTS;\n",
    "CREATE TABLE ARTISTS (\n",
    "    AID INTEGER PRIMARY KEY,\n",
    "    NAME TEXT NOT NULL\n",
    ");\n",
    "DROP TABLE IF EXISTS SHOWS;\n",
    "CREATE TABLE SHOWS (\n",
    "    SID INTEGER PRIMARY KEY,\n",
    "    ShowTime TEXT NOT NULL,\n",
    "    MID INTEGER NOT NULL,\n",
    "    TID INTEGER NOT NULL,\n",
    "    FOREIGN KEY (MID) REFERENCES MOVIES(MID),\n",
    "    FOREIGN KEY (TID) REFERENCES THEATERS(TID)\n",
    ");\n",
    "DROP TABLE IF EXISTS CREDIT;\n",
    "CREATE TABLE CREDIT (\n",
    "    CID INTEGER PRIMARY KEY,\n",
    "    AID INTEGER NOT NULL,\n",
    "    CCODE TEXT NOT NULL,\n",
    "    MID INTEGER NOT NULL,\n",
    "    FOREIGN KEY (AID) REFERENCES ARTISTS(AID),\n",
    "    FOREIGN KEY (MID) REFERENCES MOVIES(MID)\n",
    ");\n"
   ]
  },
  {
   "cell_type": "markdown",
   "metadata": {},
   "source": [
    "3. **Use SQL ALTER TABLE statements to add the foreign key constraints from your ERD.**  \n",
    "Take care that each constraint has to have a unique name."
   ]
  },
  {
   "cell_type": "code",
   "execution_count": 27,
   "metadata": {},
   "outputs": [],
   "source": [
    "# I tried to do this in two steps but found this comment that said it does not allow it in SQLite\n",
    "# SQLite doesn't support the ADD CONSTRAINT variant of the ALTER TABLE command (sqlite.org: SQL Features That SQLite Does Not Implement). \n",
    "# https://stackoverflow.com/questions/1884818/how-do-i-add-a-foreign-key-to-an-existing-sqlite-table"
   ]
  },
  {
   "cell_type": "markdown",
   "metadata": {},
   "source": [
    "4. **Save, add, commit, and push your work to GitHub.**  \n",
    "Use the commit summary comment \"Completed Part 2\"."
   ]
  },
  {
   "cell_type": "markdown",
   "metadata": {},
   "source": [
    "Brian Nicholls"
   ]
  },
  {
   "cell_type": "code",
   "execution_count": null,
   "metadata": {},
   "outputs": [],
   "source": []
  }
 ],
 "metadata": {
  "kernelspec": {
   "display_name": "Python 3",
   "language": "python",
   "name": "python3"
  },
  "language_info": {
   "codemirror_mode": {
    "name": "ipython",
    "version": 3
   },
   "file_extension": ".py",
   "mimetype": "text/x-python",
   "name": "python",
   "nbconvert_exporter": "python",
   "pygments_lexer": "ipython3",
   "version": "3.6.7"
  }
 },
 "nbformat": 4,
 "nbformat_minor": 2
}
